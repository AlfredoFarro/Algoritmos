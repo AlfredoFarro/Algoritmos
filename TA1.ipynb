{
  "nbformat": 4,
  "nbformat_minor": 0,
  "metadata": {
    "colab": {
      "name": "TA1.ipynb",
      "provenance": []
    },
    "kernelspec": {
      "name": "python3",
      "display_name": "Python 3"
    },
    "language_info": {
      "name": "python"
    }
  },
  "cells": [
    {
      "cell_type": "markdown",
      "metadata": {
        "id": "GRxdsJnr-__h"
      },
      "source": [
        "#Tarea Académica 1\n",
        "\n",
        "---\n",
        "\n"
      ]
    },
    {
      "cell_type": "markdown",
      "metadata": {
        "id": "d3XMMa09_KlO"
      },
      "source": [
        "###**1. ¿Cuáles son las diferencias entre struct y class?**\n"
      ]
    },
    {
      "cell_type": "code",
      "metadata": {
        "colab": {
          "base_uri": "https://localhost:8080/"
        },
        "id": "FAqOrqMH-8qZ",
        "outputId": "349759f9-d6c0-41c1-f5c6-a2dba1e67fc1"
      },
      "source": [
        "%%writefile ejercicio1.cpp\n",
        "\n",
        "#include <iostream>\n",
        "using namespace std;\n",
        "struct structPersona\n",
        "{\n",
        "    string nombre;\n",
        "    int edad;\n",
        "};\n",
        "class classPersona\n",
        "{\n",
        "    string nombre;\n",
        "    int edad;\n",
        "};\n",
        "int main()\n",
        "{\n",
        "    structPersona Jose;\n",
        "    classPersona Manuel;\n",
        "\n",
        "    //Struct: todos los miembros son publicos, por defecto\n",
        "    //Por lo tanto, se puede acceder a sus miembros\n",
        "    Jose.nombre = \"Jose Garcia\";\n",
        "    Jose.edad = 17;\n",
        " \n",
        "    //Class: todos los miembros son privados, por defecto\n",
        "    //Es decir, no es posible acceder a sus miembros\n",
        "    //Manuel.nombre = \"Manuel Garcia\";\n",
        "    //Manuel.edad = 15;\n",
        "    //Asignar valores a sus miembros desde el main daría error\n",
        " \n",
        "    cout << Jose.nombre << \" tiene \" << Jose.edad << \" anios.\";\n",
        "}"
      ],
      "execution_count": null,
      "outputs": [
        {
          "output_type": "stream",
          "name": "stdout",
          "text": [
            "Overwriting ejercicio1.cpp\n"
          ]
        }
      ]
    },
    {
      "cell_type": "code",
      "metadata": {
        "colab": {
          "base_uri": "https://localhost:8080/"
        },
        "id": "RQ-NwGLfM5SS",
        "outputId": "0fedb660-2d1a-4e6b-98cc-8ca636a8aaae"
      },
      "source": [
        "!g++ ejercicio1.cpp -o ejercicio1.exe && ./ejercicio1.exe"
      ],
      "execution_count": null,
      "outputs": [
        {
          "output_type": "stream",
          "name": "stdout",
          "text": [
            "Jose Garcia tiene 17 anios."
          ]
        }
      ]
    },
    {
      "cell_type": "markdown",
      "metadata": {
        "id": "N0Sdr2_gNk0a"
      },
      "source": [
        "Diferencias adicionales:\n",
        "\n",
        "*   Las clases pueden usar herencia para crear clases hijas, esto no es posible en los structs\n",
        "*   Las clases manejan el concepto de encapsulamiento, pero no los structs\n",
        "*   Las clases pueden incluir métodos, pero no los structs\n",
        "\n",
        "\n",
        "\n"
      ]
    },
    {
      "cell_type": "markdown",
      "metadata": {
        "id": "oq3lPEhkQ49O"
      },
      "source": [
        "###**2. ¿Qué son la herencia tipo público y protegido?**"
      ]
    },
    {
      "cell_type": "markdown",
      "metadata": {
        "id": "K08zi0t7aMg1"
      },
      "source": [
        "\n",
        "\n",
        "1.   *Herencia pública:* Todos los miembros de la clase mantienen sus niveles de acceso respectivos en las clases Hijas.\n",
        "2.   *Herencia protegida* Los miembros públicos de la clase Padre pasan a ser protegidos, mientras que los miembros protegidos mantienen su nivel de acceso\n",
        "**Nota:** En ambos tipos de herencia, los miembros privados de las clases Padre son inaccesibles para las clases Hijas.\n",
        "\n"
      ]
    },
    {
      "cell_type": "code",
      "metadata": {
        "colab": {
          "base_uri": "https://localhost:8080/"
        },
        "id": "pS4Juxm-RQWk",
        "outputId": "677f07d4-b3e8-450b-b277-ce9d0ef02138"
      },
      "source": [
        "%%writefile ejercicio2.cpp\n",
        "\n",
        "class ConjuntoA{\n",
        "    public:\n",
        "      int x;\n",
        "    protected:\n",
        "      int y;\n",
        "    private:\n",
        "      int z;\n",
        "};\n",
        "\n",
        "class ConjuntoB : public ConjuntoA{\n",
        "    //x sigue como publico\n",
        "    //y sigue como protegido\n",
        "    //z no es accesible desde ConjuntoB\n",
        "};\n",
        "\n",
        "class ConjuntoC : protected ConjuntoA{\n",
        "    //x se convierte de publico a privado\n",
        "    //y se mantiene porque ya es protegido\n",
        "    //z z no es accesible desde ConjuntoB\n",
        "};"
      ],
      "execution_count": null,
      "outputs": [
        {
          "output_type": "stream",
          "name": "stdout",
          "text": [
            "Overwriting ejercicio2.cpp\n"
          ]
        }
      ]
    },
    {
      "cell_type": "markdown",
      "metadata": {
        "id": "rsI6SMhIcfgc"
      },
      "source": [
        "###**3. ¿Podemos usar una función sobreescrita de la clase base en la clase derivada?**"
      ]
    },
    {
      "cell_type": "markdown",
      "metadata": {
        "id": "49-PnIgknb6r"
      },
      "source": [
        "Es posible con el polimorfismo"
      ]
    },
    {
      "cell_type": "code",
      "metadata": {
        "colab": {
          "base_uri": "https://localhost:8080/"
        },
        "id": "XGTflo3_csqR",
        "outputId": "3de81fbc-a5a9-4a04-907f-debfb62e8c0a"
      },
      "source": [
        "%%writefile ejercicio3.cpp\n",
        "\n",
        "#include <iostream>\n",
        "using namespace std;\n",
        "\n",
        "class Cuadrilatero\n",
        "{\n",
        "    protected:\n",
        "      double base;\n",
        "      double altura;\n",
        "    public:\n",
        "      virtual void calcularArea(double _base, double _altura)\n",
        "      {\n",
        "          double Area = _base * _altura;\n",
        "          cout << \"El area del cuadrilatero es de: \" << Area << endl;\n",
        "      }\n",
        "};\n",
        "class Cuadrado : public Cuadrilatero\n",
        "{\n",
        "    public:\n",
        "      double lado;\n",
        "      void calcularArea(double _lado)\n",
        "      {\n",
        "          double Area = _lado * _lado;\n",
        "          cout << \"El area del cuadrado es: \" << Area << endl;\n",
        "      }\n",
        "};\n",
        "\n",
        "int main()\n",
        "{\n",
        "    Cuadrilatero cuadri;\n",
        "    Cuadrado square;\n",
        "\n",
        "    cuadri.calcularArea(4,8);\n",
        "    square.calcularArea(5);\n",
        "}"
      ],
      "execution_count": null,
      "outputs": [
        {
          "output_type": "stream",
          "name": "stdout",
          "text": [
            "Writing ejercicio3.cpp\n"
          ]
        }
      ]
    },
    {
      "cell_type": "code",
      "metadata": {
        "colab": {
          "base_uri": "https://localhost:8080/"
        },
        "id": "Pvh3oEftnEox",
        "outputId": "64b95226-ac8e-49e6-a947-806bcaeb8c56"
      },
      "source": [
        "!g++ ejercicio3.cpp -o ejercicio3.exe && ./ejercicio3.exe"
      ],
      "execution_count": null,
      "outputs": [
        {
          "output_type": "stream",
          "name": "stdout",
          "text": [
            "El area del cuadrilatero es de: 32\n",
            "El area del cuadrado es: 25\n"
          ]
        }
      ]
    },
    {
      "cell_type": "markdown",
      "metadata": {
        "id": "jg1GJaS7nL19"
      },
      "source": [
        "###**4. ¿Cómo se crea una clase abstracta?**"
      ]
    },
    {
      "cell_type": "markdown",
      "metadata": {
        "id": "aTCo6fA9DI6d"
      },
      "source": [
        "La clase padre debe poseer al menos **un método virtual puro**. Este método se declara en la clase padre, pero se define en las clases hijas."
      ]
    },
    {
      "cell_type": "code",
      "metadata": {
        "id": "RiTSNzclnta5",
        "colab": {
          "base_uri": "https://localhost:8080/"
        },
        "outputId": "27ec1754-a4ec-40e2-c2ca-a4c87a688b9c"
      },
      "source": [
        "%%writefile ejercicio4.cpp\n",
        "\n",
        "#include <iostream>\n",
        "using namespace std;\n",
        "\n",
        "class Profesional\n",
        "{\n",
        "    protected:\n",
        "      string nombre;\n",
        "    public:\n",
        "      void setNombre(string _nombre) { nombre = _nombre; }\n",
        "      string getNombre() { return nombre; }\n",
        "      virtual void Trabajar() = 0; //Creacion del metodo virtual puro\n",
        "};\n",
        "class Programador : public Profesional\n",
        "{\n",
        "    public:\n",
        "      void Trabajar() { cout << \"El programador \" << nombre << \" desarrollara el nuevo software. \" << endl;}\n",
        "};\n",
        "\n",
        "int main()\n",
        "{\n",
        "    Programador Mijael;\n",
        "    Mijael.setNombre(\"Mijael Yen\");\n",
        "    Mijael.Trabajar();\n",
        "}"
      ],
      "execution_count": null,
      "outputs": [
        {
          "output_type": "stream",
          "name": "stdout",
          "text": [
            "Overwriting ejercicio4.cpp\n"
          ]
        }
      ]
    },
    {
      "cell_type": "code",
      "metadata": {
        "colab": {
          "base_uri": "https://localhost:8080/"
        },
        "id": "ZrrIIwtD-dcP",
        "outputId": "5a24cf0f-5a50-4ecd-a1c2-3089d8afcaf4"
      },
      "source": [
        "!g++ ejercicio4.cpp -o ejercicio4.exe && ./ejercicio4.exe"
      ],
      "execution_count": null,
      "outputs": [
        {
          "output_type": "stream",
          "name": "stdout",
          "text": [
            "El programador Mijael Yen desarrollara el nuevo software. \n"
          ]
        }
      ]
    },
    {
      "cell_type": "markdown",
      "metadata": {
        "id": "SPrWx8eoFAFp"
      },
      "source": [
        "###**5. ¿QUÉ PASA SI CREO UN OBJETO DE UNA CLASE ABSTRACTA, MUESTRA UN ERROR O COMPILA CON ÉXITO?**"
      ]
    },
    {
      "cell_type": "markdown",
      "metadata": {
        "id": "3jAhF9SHFwBs"
      },
      "source": [
        "Dará error, porque la clase abstracta posee un método virtual puro"
      ]
    },
    {
      "cell_type": "code",
      "metadata": {
        "colab": {
          "base_uri": "https://localhost:8080/"
        },
        "id": "lCg0YEi3FPXT",
        "outputId": "76809193-d145-43eb-9451-f3700c17e84b"
      },
      "source": [
        "%%writefile ejercicio5.cpp\n",
        "\n",
        "#include <iostream>\n",
        "using namespace std;\n",
        "\n",
        "class Profesional\n",
        "{\n",
        "    protected:\n",
        "      string nombre;\n",
        "    public:\n",
        "      void setNombre(string _nombre) { nombre = _nombre; }\n",
        "      string getNombre() { return nombre; }\n",
        "      virtual void Trabajar() = 0; //Creacion del metodo virtual puro\n",
        "};\n",
        "class Programador : public Profesional\n",
        "{\n",
        "    public:\n",
        "      void Trabajar() { cout << \"El programador \" << nombre << \" desarrollara el nuevo software. \" << endl;}\n",
        "};\n",
        "\n",
        "int main()\n",
        "{\n",
        "    Profesional Mijael;\n",
        "}"
      ],
      "execution_count": null,
      "outputs": [
        {
          "output_type": "stream",
          "name": "stdout",
          "text": [
            "Writing ejercicio5.cpp\n"
          ]
        }
      ]
    },
    {
      "cell_type": "code",
      "metadata": {
        "colab": {
          "base_uri": "https://localhost:8080/"
        },
        "id": "ZUTbwVWBFYHe",
        "outputId": "727dc9a4-d823-47c8-a7eb-68f1100526fe"
      },
      "source": [
        "!g++ ejercicio5.cpp -o ejercicio5.exe && ./ejercicio5.exe"
      ],
      "execution_count": null,
      "outputs": [
        {
          "output_type": "stream",
          "name": "stdout",
          "text": [
            "\u001b[01m\u001b[Kejercicio5.cpp:\u001b[m\u001b[K In function ‘\u001b[01m\u001b[Kint main()\u001b[m\u001b[K’:\n",
            "\u001b[01m\u001b[Kejercicio5.cpp:22:17:\u001b[m\u001b[K \u001b[01;31m\u001b[Kerror: \u001b[m\u001b[Kcannot declare variable ‘\u001b[01m\u001b[KMijael\u001b[m\u001b[K’ to be of abstract type ‘\u001b[01m\u001b[KProfesional\u001b[m\u001b[K’\n",
            "     Profesional \u001b[01;31m\u001b[KMijael\u001b[m\u001b[K;\n",
            "                 \u001b[01;31m\u001b[K^~~~~~\u001b[m\u001b[K\n",
            "\u001b[01m\u001b[Kejercicio5.cpp:5:7:\u001b[m\u001b[K \u001b[01;36m\u001b[Knote: \u001b[m\u001b[K  because the following virtual functions are pure within ‘\u001b[01m\u001b[KProfesional\u001b[m\u001b[K’:\n",
            " class \u001b[01;36m\u001b[KProfesional\u001b[m\u001b[K\n",
            "       \u001b[01;36m\u001b[K^~~~~~~~~~~\u001b[m\u001b[K\n",
            "\u001b[01m\u001b[Kejercicio5.cpp:12:20:\u001b[m\u001b[K \u001b[01;36m\u001b[Knote: \u001b[m\u001b[K\tvirtual void Profesional::Trabajar()\n",
            "       virtual void \u001b[01;36m\u001b[KTrabajar\u001b[m\u001b[K() = 0; //Creacion del metodo virtual puro\n",
            "                    \u001b[01;36m\u001b[K^~~~~~~~\u001b[m\u001b[K\n"
          ]
        }
      ]
    },
    {
      "cell_type": "markdown",
      "metadata": {
        "id": "tXLXDdVmGcTT"
      },
      "source": [
        "###**6. ¿POR QUÉ CREAMOS EL DESTRUCTOR Y QUÉ HAY DENTRO DEL DESTRUCTOR?**"
      ]
    },
    {
      "cell_type": "markdown",
      "metadata": {
        "id": "HS_jBWQWG5Np"
      },
      "source": [
        "\n",
        "\n",
        "*   Se crean para destruir objetos de almacenamiento dinámico\n",
        "*   No es obligatorio que se escriba código dentro de los destructores. Puede escribirse un mensaje para confirmar que se destruyó el objeto\n",
        "\n"
      ]
    },
    {
      "cell_type": "code",
      "metadata": {
        "colab": {
          "base_uri": "https://localhost:8080/"
        },
        "id": "BAIMzj9QGkPj",
        "outputId": "9c02f4f0-3540-4725-ab56-fe28e558c106"
      },
      "source": [
        "%%writefile ejercicio6.cpp\n",
        "\n",
        "#include <iostream>\n",
        "using namespace std;\n",
        "\n",
        "class Estudiante\n",
        "{\n",
        "    private:\n",
        "      string nombre, clase;\n",
        "    public:\n",
        "      Estudiante(string _nombre, string _clase)\n",
        "      {\n",
        "          nombre = _nombre;\n",
        "          clase = _clase;\n",
        "      }\n",
        "      ~Estudiante()\n",
        "      {\n",
        "          cout << \"El objeto estudiante \" << nombre << \" fue borrado.\" << endl;\n",
        "          //Esto no es obligatorio, fue escrito para demostrar que el destructor sí se ejecuta\n",
        "      }\n",
        "      void MostrarDatos()\n",
        "      {\n",
        "          cout << \"Nombre: \" << nombre << endl;\n",
        "          cout << \"Clase: \" << clase << endl;\n",
        "      }\n",
        "      void Estudiar()\n",
        "      {\n",
        "          cout << \"El estudiante \" << nombre << \" esta estudiando para la clase de \" << clase << endl;\n",
        "      }\n",
        "};\n",
        "\n",
        "int main()\n",
        "{\n",
        "    Estudiante Alfredo(\"Alfredo\", \"Algoritmos\");\n",
        "    Alfredo.MostrarDatos();\n",
        "    Alfredo.Estudiar();\n",
        "    //El destructor siempre se ejecuta al final del programa\n",
        "}"
      ],
      "execution_count": null,
      "outputs": [
        {
          "output_type": "stream",
          "name": "stdout",
          "text": [
            "Overwriting ejercicio6.cpp\n"
          ]
        }
      ]
    },
    {
      "cell_type": "code",
      "metadata": {
        "colab": {
          "base_uri": "https://localhost:8080/"
        },
        "id": "eUi5QHaXVbJF",
        "outputId": "f11e37ba-1b4d-429a-b499-621cf5407198"
      },
      "source": [
        "!g++ ejercicio6.cpp -o ejercicio6.exe && ./ejercicio6.exe"
      ],
      "execution_count": null,
      "outputs": [
        {
          "output_type": "stream",
          "name": "stdout",
          "text": [
            "Nombre: Alfredo\n",
            "Clase: Algoritmos\n",
            "El estudiante Alfredo esta estudiando para la clase de Algoritmos\n",
            "El objeto estudiante Alfredo fue borrado.\n"
          ]
        }
      ]
    },
    {
      "cell_type": "markdown",
      "metadata": {
        "id": "N3aWjv86V-zD"
      },
      "source": [
        "###**7. ¿CÓMO SE ASIGNA LA MEMORIA EN C++?**"
      ]
    },
    {
      "cell_type": "code",
      "metadata": {
        "id": "hFImyB6DWDJq"
      },
      "source": [
        "%%writefile ejercicio7.cpp\n",
        "\n",
        "int main()\n",
        "{\n",
        "    //New permite reservar memoria dinamicamente...\n",
        "    //.. y asignarla a una variable de tipo puntero\n",
        " \n",
        "    //Metodo1\n",
        "    int *variableA;\n",
        "    variableA = new int;\n",
        "    \n",
        "    //Metodo2\n",
        "    int *variableB = new int;\n",
        "}"
      ],
      "execution_count": null,
      "outputs": []
    },
    {
      "cell_type": "markdown",
      "metadata": {
        "id": "ZigO363XGI-a"
      },
      "source": [
        "###**8. ¿HA UTILIZADO LA SOBRECARGA DE OPERADORES EN SU PROYECTO Y CÓMO?** *vacío*"
      ]
    },
    {
      "cell_type": "markdown",
      "metadata": {
        "id": "WJ_E68ODGVRh"
      },
      "source": [
        "###**9. ¿DIFERENCIA ENTRE ENCAPSULAMIENTO Y ABSTRACCIÓN?**"
      ]
    },
    {
      "cell_type": "code",
      "metadata": {
        "id": "SHX2v8guGaDr"
      },
      "source": [
        "%%writefile ejercicio9.cpp\n",
        "\n",
        "class Estudiante\n",
        "{\n",
        "   //Se aplica abstraccion porque se describen caracteristicas\n",
        "   //esenciales del objeto Estudiante\n",
        "    private:    //Al momento de definir qué miembros son privados y públicos, se aplica encapsulamiento\n",
        "      string nombre;\n",
        "      int edad;\n",
        "      int grado, grupo;\n",
        "    public:\n",
        "      virtual void Estudiar();\n",
        "      virtual void AnotarRecordatorios();\n",
        "};"
      ],
      "execution_count": null,
      "outputs": []
    },
    {
      "cell_type": "markdown",
      "metadata": {
        "id": "-mV65ysVzVV9"
      },
      "source": [
        "###**10. CUANDO LA MISMA FUNCIÓN EXISTE TANTO EN LA CLASE BASE COMO EN LA CLASE DERIVADA, ¿ QUÉ FUNCIÓN ES EJECUTADA?**"
      ]
    },
    {
      "cell_type": "markdown",
      "metadata": {
        "id": "kmLefWjj1O4X"
      },
      "source": [
        "Es ejecutada la función de la clase derivada"
      ]
    },
    {
      "cell_type": "code",
      "metadata": {
        "colab": {
          "base_uri": "https://localhost:8080/"
        },
        "id": "33jOm1Eszgip",
        "outputId": "8c72beb8-8ed2-4ff6-d1b7-44cb5cc933b5"
      },
      "source": [
        "%%writefile ejercicio10.cpp\n",
        "\n",
        "#include <iostream>\n",
        "using namespace std;\n",
        "\n",
        "class clasePadre\n",
        "{\n",
        "    protected:\n",
        "      int x, y;\n",
        "    public:\n",
        "      void setX(int _x) { x = _x; }\n",
        "      void setY(int _y) { y = _y; }\n",
        "      int getX() { return x; }\n",
        "      int getY() { return y; }\n",
        "      int Sumar()\n",
        "      {\n",
        "          return x+y;\n",
        "      }\n",
        "};\n",
        "\n",
        "class claseHija : public clasePadre\n",
        "{\n",
        "    public:\n",
        "      int Sumar()\n",
        "      {\n",
        "          return x+y+10;\n",
        "      }\n",
        "};\n",
        "\n",
        "int main()\n",
        "{\n",
        "    claseHija sumatoria;\n",
        "    sumatoria.setX(5);\n",
        "    sumatoria.setY(7);\n",
        "    cout << \"La suma es: \" << sumatoria.Sumar() << endl;\n",
        "}"
      ],
      "execution_count": null,
      "outputs": [
        {
          "output_type": "stream",
          "name": "stdout",
          "text": [
            "Overwriting ejercicio10.cpp\n"
          ]
        }
      ]
    },
    {
      "cell_type": "code",
      "metadata": {
        "colab": {
          "base_uri": "https://localhost:8080/"
        },
        "id": "SSvlWRS_1Bh4",
        "outputId": "8baa43f3-ab5d-40ad-e8e2-2e93c0091d5e"
      },
      "source": [
        "!g++ ejercicio10.cpp -o ejercicio10.exe && ./ejercicio10.exe"
      ],
      "execution_count": null,
      "outputs": [
        {
          "output_type": "stream",
          "name": "stdout",
          "text": [
            "La suma es: 22\n"
          ]
        }
      ]
    },
    {
      "cell_type": "markdown",
      "metadata": {
        "id": "mA3AXi1h1Uq2"
      },
      "source": [
        "###**11. ¿CÓMO PODEMOS UTILIZAR EL CONSTRUCTOR DE LA CLASE BASE CREANDO UN OBJETO DE LA CLASE DERIVADA?**"
      ]
    },
    {
      "cell_type": "code",
      "metadata": {
        "colab": {
          "base_uri": "https://localhost:8080/"
        },
        "id": "-3hPHput1Z_f",
        "outputId": "fc6a070b-7c47-4a3e-fc80-d8b391f10573"
      },
      "source": [
        "%%writefile ejercicio11.cpp\n",
        "\n",
        "#include <iostream>\n",
        "using namespace std;\n",
        "\n",
        "class Persona\n",
        "{\n",
        "    protected:\n",
        "      string nombre;\n",
        "      int edad;\n",
        "    public:\n",
        "      Persona(string _nombre, int _edad)\n",
        "      {\n",
        "          nombre = _nombre;\n",
        "          edad = _edad;\n",
        "      }\n",
        "      void mostrarPersona()\n",
        "      {\n",
        "          cout << \"Nombre: \" << nombre << endl;\n",
        "          cout << \"Edad: \" << edad << endl;\n",
        "      }\n",
        "};\n",
        "\n",
        "class Estudiante : public Persona\n",
        "{\n",
        "    private:\n",
        "      string codigoEstudiante;\n",
        "      float notaFinal;\n",
        "    public:\n",
        "      Estudiante(string _nombre, int _edad, string _codigoEstudiante, float _notaFinal) : Persona(_nombre, _edad) //Llamado del constructor Padre\n",
        "      {\n",
        "          codigoEstudiante = _codigoEstudiante;\n",
        "          notaFinal = _notaFinal;\n",
        "      }\n",
        "      void mostrarEstudiante()\n",
        "      {\n",
        "          mostrarPersona();\n",
        "          cout << \"Codigo Alumno: \" << codigoEstudiante << endl;\n",
        "          cout << \"Nota Final: \" << notaFinal << endl;\n",
        "      }\n",
        "};\n",
        "\n",
        "int main()\n",
        "{\n",
        "    Estudiante Vladimir(\"Vladimir\",20,\"U20209245\",17);\n",
        "    Vladimir.mostrarEstudiante();\n",
        "}"
      ],
      "execution_count": 23,
      "outputs": [
        {
          "output_type": "stream",
          "name": "stdout",
          "text": [
            "Overwriting ejercicio11.cpp\n"
          ]
        }
      ]
    },
    {
      "cell_type": "code",
      "metadata": {
        "colab": {
          "base_uri": "https://localhost:8080/"
        },
        "id": "emkw0gU981hh",
        "outputId": "aecc0504-7491-4f9d-8af3-426ac7ec9191"
      },
      "source": [
        "!g++ ejercicio11.cpp -o ejercicio11.exe && ./ejercicio11.exe"
      ],
      "execution_count": 24,
      "outputs": [
        {
          "output_type": "stream",
          "name": "stdout",
          "text": [
            "Nombre: Vladimir\n",
            "Edad: 20\n",
            "Codigo Alumno: U20209245\n",
            "Nota Final: 17\n"
          ]
        }
      ]
    },
    {
      "cell_type": "markdown",
      "metadata": {
        "id": "91alTZSY-7Ch"
      },
      "source": [
        ""
      ]
    },
    {
      "cell_type": "markdown",
      "metadata": {
        "id": "chbL3KCN-_9R"
      },
      "source": [
        "###**12. ¿QUÉ ES LA HERENCIA Y CÓMO LO UTILIZÓ EN SU PROYECTO?**"
      ]
    },
    {
      "cell_type": "code",
      "metadata": {
        "colab": {
          "base_uri": "https://localhost:8080/"
        },
        "id": "ZlqWdUjv_L4L",
        "outputId": "625ae3db-880c-4af4-9849-ee0c62222be8"
      },
      "source": [
        "%%writefile ejercicio12.cpp\n",
        "\n",
        "class Entidad\n",
        "{\n",
        "  protected:\n",
        "    int x, y;\n",
        "    int dx, dy;\n",
        "    int ancho, alto;\n",
        "    int idx, idy;\n",
        "  public:\n",
        "    Entidad(){}\n",
        "    ~Entidad(){}\n",
        "\n",
        "    virtual void dibujar(){}\n",
        "    virtual void mover(){}\n",
        "\n",
        "    int getX() { return x; }\n",
        "    int getY() { return y; }\n",
        "    void setX(int value) { x = value; }\n",
        "    void setY(int value) { y = value; }\n",
        "};\n",
        "\n",
        "class Lider : public Entidad //La herencia permite derivar los atributos y metodos de una clase Padre a una clase Hija\n",
        "{\n",
        "    private:\n",
        "      int nivel;\n",
        "    public:\n",
        "      void dibujar(){}\n",
        "      void mover() {}\n",
        "    //Se utilizo en el proyecto creando una clase abstracta Entidad para crear\n",
        "    //las clases hijas como Lider, Agente, Habitante. Estos son los personajes\n",
        "    //del videojuego.\n",
        "};"
      ],
      "execution_count": 25,
      "outputs": [
        {
          "output_type": "stream",
          "name": "stdout",
          "text": [
            "Writing ejercicio12.cpp\n"
          ]
        }
      ]
    },
    {
      "cell_type": "markdown",
      "metadata": {
        "id": "uJeINe-SFoXz"
      },
      "source": [
        "###**13. ¿QUE ES NAMESPACE STD?**"
      ]
    },
    {
      "cell_type": "markdown",
      "metadata": {
        "id": "MiE43KAdHM-J"
      },
      "source": [
        "Un namespace posee nuevas palabras reservadas para desarrollar en el lenguaje. En el caso de std, posee las palabras reservadas cout y cin"
      ]
    },
    {
      "cell_type": "code",
      "metadata": {
        "colab": {
          "base_uri": "https://localhost:8080/"
        },
        "id": "sa4ptsCQFsYi",
        "outputId": "3e46bd0b-0295-4530-dd07-8caf10ad646c"
      },
      "source": [
        "%%writefile ejercicio13.cpp\n",
        "\n",
        "#include <iostream>\n",
        "using namespace std;\n",
        "\n",
        "int main()\n",
        "{\n",
        "    string nombre;\n",
        "    cout << \"Hola, puedo expresarme gracias al cout de namespace std\" << endl;\n",
        "    cout << \"Escribe tu nombre: \"; cin >> nombre;\n",
        "    cout << \"Un gusto, \" << nombre << \", ¿sabes que pudiste escribir tu nombre porque el namespace std incluye al 'cin'? :0\";\n",
        "}"
      ],
      "execution_count": 32,
      "outputs": [
        {
          "output_type": "stream",
          "name": "stdout",
          "text": [
            "Overwriting ejercicio13.cpp\n"
          ]
        }
      ]
    },
    {
      "cell_type": "code",
      "metadata": {
        "colab": {
          "base_uri": "https://localhost:8080/"
        },
        "id": "YlLnnL25Hl4C",
        "outputId": "c120d2ae-564c-479f-9639-ece94bf6258c"
      },
      "source": [
        "!g++ ejercicio13.cpp -o ejercicio13.exe && ./ejercicio13.exe"
      ],
      "execution_count": 33,
      "outputs": [
        {
          "output_type": "stream",
          "name": "stdout",
          "text": [
            "Hola, puedo expresarme gracias al cout de namespace std\n",
            "Escribe tu nombre: Mijael\n",
            "Un gusto, Mijael, ¿sabes que pudiste escribir tu nombre porque el namespace std incluye al 'cin'? :0"
          ]
        }
      ]
    },
    {
      "cell_type": "markdown",
      "metadata": {
        "id": "1yOKNtSyIATz"
      },
      "source": [
        "###**14. ¿POR QUÉ CREAMOS UNA CLASE ABSTRACTA?**"
      ]
    },
    {
      "cell_type": "markdown",
      "metadata": {
        "id": "e1CcnjkvJpOh"
      },
      "source": [
        "Porque servira como clase Base para varias clases. Muy util en proyectos"
      ]
    },
    {
      "cell_type": "code",
      "metadata": {
        "colab": {
          "base_uri": "https://localhost:8080/"
        },
        "id": "6k7j5___IF39",
        "outputId": "1fd16ddb-20c0-49d2-ad29-98fb0e5ac527"
      },
      "source": [
        "%%writefile ejercicio14.cpp\n",
        "\n",
        "#include <iostream>\n",
        "using namespace std;\n",
        "\n",
        "class Profesional //Clase que servirá como base para varias clases\n",
        "{\n",
        "    protected:\n",
        "      string nombre;\n",
        "    public:\n",
        "      void setNombre(string _nombre) { nombre = _nombre; }\n",
        "      string getNombre() { return nombre; }\n",
        "      virtual void Trabajar() = 0; //Metodo virtual puro que usaran las clases hijas\n",
        "};\n",
        "class Programador : public Profesional\n",
        "{\n",
        "    public:\n",
        "      void Trabajar() { cout << \"El programador \" << nombre << \" desarrollara el nuevo software. \" << endl;}\n",
        "};\n",
        "class Doctor : public Profesional\n",
        "{\n",
        "    public:\n",
        "      void Trabajar() { cout << \"El doctor \" << nombre << \" esta tratando a sus pacientes.\" << endl;}\n",
        "};\n",
        "\n",
        "int main()\n",
        "{\n",
        "    Programador Mijael;\n",
        "    Doctor Vladimir;\n",
        "    Mijael.setNombre(\"Mijael Yen\");\n",
        "    Vladimir.setNombre(\"Vladimir\");\n",
        "    Mijael.Trabajar();\n",
        "    Vladimir.Trabajar();\n",
        "}"
      ],
      "execution_count": 38,
      "outputs": [
        {
          "output_type": "stream",
          "name": "stdout",
          "text": [
            "Overwriting ejercicio14.cpp\n"
          ]
        }
      ]
    },
    {
      "cell_type": "code",
      "metadata": {
        "colab": {
          "base_uri": "https://localhost:8080/"
        },
        "id": "87Bs1dnAJdNB",
        "outputId": "fd1721c5-1545-4e8f-cd72-042986aadc87"
      },
      "source": [
        "!g++ ejercicio14.cpp -o ejercicio14.exe && ./ejercicio14.exe"
      ],
      "execution_count": 39,
      "outputs": [
        {
          "output_type": "stream",
          "name": "stdout",
          "text": [
            "El programador Mijael Yen desarrollara el nuevo software. \n",
            "El doctor Vladimir esta tratando a sus pacientes.\n"
          ]
        }
      ]
    },
    {
      "cell_type": "markdown",
      "metadata": {
        "id": "nP6lgUpOJz7u"
      },
      "source": [
        "###**15. ¿QUÉ ES LA MEMORIA TIPO PILA Y CÓMO FUNCIONA?**"
      ]
    },
    {
      "cell_type": "markdown",
      "metadata": {
        "id": "lTYpuOpmU1t2"
      },
      "source": [
        "###**16. ¿CÓMO HA UTILIZADO EL POLIMORFISMO EN SU TRABAJO FINAL DE CURSO?**"
      ]
    },
    {
      "cell_type": "code",
      "metadata": {
        "id": "fzaa5GxmU6tb"
      },
      "source": [
        "%%writefile ejercicio16.cpp\n",
        "\n",
        "class Entidad\n",
        "{\n",
        "  protected:\n",
        "    int x, y;\n",
        "    int dx, dy;\n",
        "    int ancho, alto;\n",
        "    int idx, idy;\n",
        "  public:\n",
        "    Entidad(){}\n",
        "    ~Entidad(){}\n",
        "\n",
        "    virtual void dibujar(){} //Polimorfismo: Metodo a definir en la clase Padre\n",
        "    virtual void mover(){}\n",
        "\n",
        "    int getX() { return x; }\n",
        "    int getY() { return y; }\n",
        "    void setX(int value) { x = value; }\n",
        "    void setY(int value) { y = value; }\n",
        "};\n",
        "\n",
        "class Lider : public Entidad\n",
        "{\n",
        "    private:\n",
        "      int nivel;\n",
        "    public:\n",
        "      void dibujar()\n",
        "      {\n",
        "          /*\n",
        "            Se define el metodo dibujar para la clase Lider\n",
        "          */\n",
        "      }\n",
        "      void mover()\n",
        "      {\n",
        "          /*\n",
        "            Se define el metodo mover para la clase Lider\n",
        "          */\n",
        "      }\n",
        "};"
      ],
      "execution_count": null,
      "outputs": []
    },
    {
      "cell_type": "markdown",
      "metadata": {
        "id": "krSxRGrsWriY"
      },
      "source": [
        "###**17. ¿QUÉ ES EL RETRASO EN LA VINCULACIÓN (LATE BINDING)?**"
      ]
    },
    {
      "cell_type": "markdown",
      "metadata": {
        "id": "UZKSAkc3YPqv"
      },
      "source": [
        "###**18. ¿QUÉ ESTRUCTURA DE DATOS HA UTILIZADO EN SU TRABAJO FINAL DE CURSO ?**"
      ]
    },
    {
      "cell_type": "markdown",
      "metadata": {
        "id": "tQDZH9B9Yzn2"
      },
      "source": [
        "###**19. ¿POR QUÉ CERRAR EL ARCHIVO? ¿ES NECESARIO CERRARLO O SE CERRARÁ AUTOMÁTICAMENTE AL SALIR DEL PROGRAMA?**"
      ]
    },
    {
      "cell_type": "markdown",
      "metadata": {
        "id": "5GCqojLEZP2N"
      },
      "source": [
        "###**20. ¿QUÉ ES OBJECT SLICING?**"
      ]
    },
    {
      "cell_type": "markdown",
      "metadata": {
        "id": "1k1G4he2bspP"
      },
      "source": [
        "Asignar un objeto de una clase derivada a una instancia de una clase base, perdiendo parte de la informacion."
      ]
    },
    {
      "cell_type": "code",
      "metadata": {
        "colab": {
          "base_uri": "https://localhost:8080/"
        },
        "id": "mJ5YNhhAaMnD",
        "outputId": "3d9f9f3f-5e61-47da-9bbb-98707593ebfa"
      },
      "source": [
        "%%writefile ejercicio20.cpp\n",
        "\n",
        "#include <iostream>\n",
        "using namespace std;\n",
        "\n",
        "class Padre\n",
        "{\n",
        "    public:\n",
        "      int data = 5;\n",
        "      virtual void Mostrar()\n",
        "      {\n",
        "          cout << \"Padre: \" << data << endl;\n",
        "      }\n",
        "};\n",
        "\n",
        "class Hijo : public Padre\n",
        "{\n",
        "    public:\n",
        "      int data = 7;\n",
        "      void Mostrar()\n",
        "      {\n",
        "          cout << \"Hijo: \" << data << endl;\n",
        "      }\n",
        "};\n",
        "\n",
        "int main()\n",
        "{\n",
        "    Hijo junior;\n",
        "    junior.Mostrar();\n",
        "    junior.data = 11;\n",
        "    junior.Mostrar();\n",
        "\n",
        "    Padre senior = junior;\n",
        "    senior.Mostrar();\n",
        "}"
      ],
      "execution_count": 48,
      "outputs": [
        {
          "output_type": "stream",
          "name": "stdout",
          "text": [
            "Overwriting ejercicio20.cpp\n"
          ]
        }
      ]
    },
    {
      "cell_type": "code",
      "metadata": {
        "colab": {
          "base_uri": "https://localhost:8080/"
        },
        "id": "jx_KhPijaWz-",
        "outputId": "cd406484-4f63-4bb9-d6c3-750369922918"
      },
      "source": [
        "!g++ ejercicio20.cpp -o ejercicio20.exe && ./ejercicio20.exe"
      ],
      "execution_count": 49,
      "outputs": [
        {
          "output_type": "stream",
          "name": "stdout",
          "text": [
            "Hijo: 7\n",
            "Hijo: 11\n",
            "Padre: 5\n"
          ]
        }
      ]
    },
    {
      "cell_type": "markdown",
      "metadata": {
        "id": "gt1LKrFDb070"
      },
      "source": [
        "###**21. ¿QUÉ OBJETOS STL HA UTILIZADO EN SU PROYECTO FINAL Y POR QUÉ?**"
      ]
    },
    {
      "cell_type": "code",
      "metadata": {
        "colab": {
          "base_uri": "https://localhost:8080/"
        },
        "id": "zzP2zvaxdINW",
        "outputId": "31d208b4-37ac-4421-c2cf-a4d7d52f7f13"
      },
      "source": [
        "%%writefile ejercicio21.cpp\n",
        "\n",
        "class CControlador\n",
        "{\n",
        "    private:\n",
        "      int nivel, puntaje, minutos, segundos;\n",
        "      int cantHabitantes, cantAliados, cantAgentes, cantVacunas;\n",
        "      int contAliadosFallecidos, contAliadosMisionCumplido, contAgentesMuertos;\n",
        "      //CLider* lider;\n",
        "      /*\n",
        "        Ahora se mostrara el uso de contenedores lineales STL. En el proyecto,\n",
        "        se hizo más uso de los vectores.\n",
        "      */\n",
        "      vector<CAliado*>enfermeras;\n",
        "      vector<CAgente*>virus;\n",
        "      vector<CCiudadano*>ciudadanos;\n",
        "      vector<CBala*>vacunas;\n",
        "    public:\n",
        "      CControlador(){}\n",
        "      ~CControlador(){}\n",
        "      //...\n",
        "};"
      ],
      "execution_count": 50,
      "outputs": [
        {
          "output_type": "stream",
          "name": "stdout",
          "text": [
            "Writing ejercicio21.cpp\n"
          ]
        }
      ]
    },
    {
      "cell_type": "markdown",
      "metadata": {
        "id": "Xah36cymeGyh"
      },
      "source": [
        "###**22. ¿POR QUÉ ESCRIBIMOS EL CONSTRUCTOR?**"
      ]
    },
    {
      "cell_type": "markdown",
      "metadata": {
        "id": "RQxhcTlPkYIn"
      },
      "source": [
        "Para inicializar los atributos del objeto"
      ]
    },
    {
      "cell_type": "code",
      "metadata": {
        "colab": {
          "base_uri": "https://localhost:8080/"
        },
        "id": "3HK-r5pekSUi",
        "outputId": "d2245a06-d6fd-4900-e0ef-548ad5607345"
      },
      "source": [
        "%%writefile ejercicio22.cpp\n",
        "\n",
        "#include <iostream>\n",
        "using namespace std;\n",
        "\n",
        "class UPCino\n",
        "{\n",
        "    private:\n",
        "      string nombre;\n",
        "      int edad = 0;\n",
        "      string carrera;\n",
        "\n",
        "    public:\n",
        "      UPCino(string _nombre, int _edad, string _carrera) //inicializar los atributos\n",
        "      {\n",
        "          this->nombre = _nombre;\n",
        "          this->edad = _edad;\n",
        "          this->carrera = _carrera;\n",
        "      }\n",
        "      void mostrarDatos()\n",
        "      {\n",
        "          cout << \"Hola, me llamo \" << nombre << \", tengo \" << edad << \" anios y estudio la carrera de \" << carrera << \".\" << endl;\n",
        "      }\n",
        "};\n",
        "\n",
        "int main()\n",
        "{\n",
        "    UPCino angelica = UPCino(\"Angelica\", 20, \"Ingenieria de Sistemas\");\n",
        "    angelica.mostrarDatos();\n",
        "}"
      ],
      "execution_count": 58,
      "outputs": [
        {
          "output_type": "stream",
          "name": "stdout",
          "text": [
            "Overwriting ejercicio22.cpp\n"
          ]
        }
      ]
    },
    {
      "cell_type": "code",
      "metadata": {
        "colab": {
          "base_uri": "https://localhost:8080/"
        },
        "id": "B4ZtwYhYlhnW",
        "outputId": "1b1ec25c-d3b1-4fae-d2a8-cde878098f26"
      },
      "source": [
        "!g++ ejercicio22.cpp -o ejercicio22.exe && ./ejercicio22.exe"
      ],
      "execution_count": 59,
      "outputs": [
        {
          "output_type": "stream",
          "name": "stdout",
          "text": [
            "Hola, me llamo Angelica, tengo 20 anios y estudio la carrera de Ingenieria de Sistemas.\n"
          ]
        }
      ]
    },
    {
      "cell_type": "markdown",
      "metadata": {
        "id": "laXBsTIVmLP7"
      },
      "source": [
        "###**23. ¿QUÉ PASARÍA SI NO ESCRIBIMOS EL CONSTRUCTOR?**"
      ]
    },
    {
      "cell_type": "markdown",
      "metadata": {
        "id": "qTD-f0ijmuF5"
      },
      "source": [
        "No podría inicializar los datos del objeto creado. Por lo tanto, en este programa se imprimiria vacio y los valores por defecto de la clase."
      ]
    },
    {
      "cell_type": "code",
      "metadata": {
        "colab": {
          "base_uri": "https://localhost:8080/"
        },
        "id": "noMVDDi3mQVe",
        "outputId": "5303eb43-abff-4982-f940-e5ca7ca56380"
      },
      "source": [
        "%%writefile ejercicio23.cpp\n",
        "\n",
        "#include <iostream>\n",
        "using namespace std;\n",
        "\n",
        "class UPCino\n",
        "{\n",
        "    private:\n",
        "      string nombre;\n",
        "      int edad = 0;\n",
        "      string carrera;\n",
        "\n",
        "    public:\n",
        "      void mostrarDatos()\n",
        "      {\n",
        "          cout << \"Hola, me llamo \" << nombre << \", tengo \" << edad << \" anios y estudio la carrera de \" << carrera << \".\" << endl;\n",
        "      }\n",
        "};\n",
        "\n",
        "int main()\n",
        "{\n",
        "    UPCino angelica;\n",
        "    angelica.mostrarDatos();\n",
        "}"
      ],
      "execution_count": 60,
      "outputs": [
        {
          "output_type": "stream",
          "name": "stdout",
          "text": [
            "Overwriting ejercicio23.cpp\n"
          ]
        }
      ]
    },
    {
      "cell_type": "code",
      "metadata": {
        "colab": {
          "base_uri": "https://localhost:8080/"
        },
        "id": "owhutQLimatn",
        "outputId": "78922d98-41fe-434b-aa82-761295c41621"
      },
      "source": [
        "!g++ ejercicio23.cpp -o ejercicio23.exe && ./ejercicio23.exe"
      ],
      "execution_count": 61,
      "outputs": [
        {
          "output_type": "stream",
          "name": "stdout",
          "text": [
            "Hola, me llamo , tengo 0 anios y estudio la carrera de .\n"
          ]
        }
      ]
    },
    {
      "cell_type": "markdown",
      "metadata": {
        "id": "z8mB1A0foEqx"
      },
      "source": [
        "###**24. ¿PUEDO SOBRECARGAR EL DESTRUCTOR?, ¿POR QUÉ?**"
      ]
    },
    {
      "cell_type": "markdown",
      "metadata": {
        "id": "dJMxxmZWpgMX"
      },
      "source": [
        "###**25. ¿DIFERENCIA ENTRE TUPLA Y VECTOR?**"
      ]
    },
    {
      "cell_type": "code",
      "metadata": {
        "colab": {
          "base_uri": "https://localhost:8080/"
        },
        "id": "hx88A2XbqefT",
        "outputId": "41b5563c-a496-41de-ede2-d8defa3ccaca"
      },
      "source": [
        "%%writefile ejercicio25.cpp\n",
        "\n",
        "#include <iostream>\n",
        "using namespace std;\n",
        "struct Fecha\n",
        "{\n",
        "    int dia, mes, anio;\n",
        "};\n",
        "\n",
        "int main()\n",
        "{\n",
        "    Fecha miCumple = {1,8,2002}; //Ejemplo de tupla\n",
        "    cout << \"Mi cumple es en: \" << miCumple.dia << \"/\" << miCumple.mes << \"/\" << miCumple.anio << endl;\n",
        "}"
      ],
      "execution_count": 64,
      "outputs": [
        {
          "output_type": "stream",
          "name": "stdout",
          "text": [
            "Overwriting ejercicio25.cpp\n"
          ]
        }
      ]
    },
    {
      "cell_type": "code",
      "metadata": {
        "colab": {
          "base_uri": "https://localhost:8080/"
        },
        "id": "axdXAUirsAbo",
        "outputId": "e6ed9c22-4fbb-4595-ee4b-eda3a2142b5b"
      },
      "source": [
        "!g++ ejercicio25.cpp -o ejercicio25.exe && ./ejercicio25.exe"
      ],
      "execution_count": 65,
      "outputs": [
        {
          "output_type": "stream",
          "name": "stdout",
          "text": [
            "Mi cumple es en: 1/8/2002\n"
          ]
        }
      ]
    }
  ]
}