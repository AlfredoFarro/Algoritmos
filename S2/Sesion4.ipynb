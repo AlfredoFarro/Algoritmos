{
  "nbformat": 4,
  "nbformat_minor": 0,
  "metadata": {
    "colab": {
      "name": "Sesion4.ipynb",
      "provenance": [],
      "authorship_tag": "ABX9TyOv/v9sH0Be+AUhImx4n70R"
    },
    "kernelspec": {
      "name": "python3",
      "display_name": "Python 3"
    },
    "language_info": {
      "name": "python"
    }
  },
  "cells": [
    {
      "cell_type": "markdown",
      "metadata": {
        "id": "-_BFQ8e3gkb_"
      },
      "source": [
        "#Temario\n",
        "1. Archivos\n",
        "2. Lambdas\n",
        "3. Recursividad"
      ]
    },
    {
      "cell_type": "markdown",
      "metadata": {
        "id": "EvmFfFD2g0ma"
      },
      "source": [
        "#Archivos"
      ]
    },
    {
      "cell_type": "code",
      "metadata": {
        "colab": {
          "base_uri": "https://localhost:8080/"
        },
        "id": "onZBy4-WgVFC",
        "outputId": "460afd92-1e9b-46dc-d418-fb97038d3611"
      },
      "source": [
        "%%writefile archivos.txt\n",
        "Lg , negro , 1200 \n",
        "Samsung , azul , 1500  \n",
        "Nokia , Rojo , 800 "
      ],
      "execution_count": 68,
      "outputs": [
        {
          "output_type": "stream",
          "text": [
            "Overwriting archivos.txt\n"
          ],
          "name": "stdout"
        }
      ]
    },
    {
      "cell_type": "code",
      "metadata": {
        "colab": {
          "base_uri": "https://localhost:8080/"
        },
        "id": "d7ChDLxOhGiz",
        "outputId": "ecbab93d-2723-46aa-dc38-6b73895438e0"
      },
      "source": [
        "%%writefile archivos.cpp\n",
        "#include<iostream>\n",
        "#include<fstream>\n",
        "#include<sstream>\n",
        "using namespace std;\n",
        "void ejemplo1(){\n",
        "    //cout<<\"Nro\";//escritura de archivos en buffer\n",
        "    //cin>>nro;//lectura de archivos en buffer\n",
        "    string cadena;\n",
        "    fstream archE(\"texto.txt\",ios::out);//modo de operacion es escritura\n",
        "    archE<<\"UPC\";\n",
        "    archE.close();\n",
        "    fstream archL(\"texto.txt\",ios::in);//modo de operacion es lectura\n",
        "    archL>>cadena;\n",
        "    cout<<cadena;\n",
        "    archL.close();\n",
        "}\n",
        "void ejemplo2(){\n",
        "    string cadena;\n",
        "    string marca,color,aux;\n",
        "    float precio;\n",
        "    ifstream archivo(\"archivos.txt\");\n",
        "    //archivo>>cadena;\n",
        "    while(getline(archivo,cadena))\n",
        "    {\n",
        "        stringstream archMem(cadena);//convierte un string en archivo en memoria\n",
        "        getline(archMem,marca,',');\n",
        "        getline(archMem,color,',');\n",
        "        getline(archMem,aux);\n",
        "        precio=stod(aux);\n",
        "        cout<<precio<<\" \"<<color<<\" \"<<marca<<endl;\n",
        "    }\n",
        "}\n",
        "\n",
        "void ejemplo3(){\n",
        "    string cadena;\n",
        "    string marca,color,aux;\n",
        "    float precio;\n",
        "    ifstream archivo(\"archivos.txt\");\n",
        "    //archivo>>cadena;\n",
        "    while(archivo>>marca>>aux>>color>>aux>>precio)\n",
        "    {\n",
        "        cout<<precio<<\" \"<<color<<\" \"<<marca<<endl;\n",
        "    }\n",
        "}\n",
        "\n",
        "int main(){\n",
        "    ejemplo3();\n",
        "}"
      ],
      "execution_count": 71,
      "outputs": [
        {
          "output_type": "stream",
          "text": [
            "Overwriting archivos.cpp\n"
          ],
          "name": "stdout"
        }
      ]
    },
    {
      "cell_type": "code",
      "metadata": {
        "colab": {
          "base_uri": "https://localhost:8080/"
        },
        "id": "XSDUk9ajiK0Y",
        "outputId": "36573002-3b9a-4daa-f6be-b3c2a61f2e80"
      },
      "source": [
        "!g++ archivos.cpp && ./a.out"
      ],
      "execution_count": 72,
      "outputs": [
        {
          "output_type": "stream",
          "text": [
            "1200 negro Lg\n",
            "1500 azul Samsung\n",
            "800 Rojo Nokia\n"
          ],
          "name": "stdout"
        }
      ]
    },
    {
      "cell_type": "code",
      "metadata": {
        "colab": {
          "base_uri": "https://localhost:8080/"
        },
        "id": "PwiLHS6Eie5x",
        "outputId": "55cd175c-7b1a-4ee7-b5aa-75e754e66ef1"
      },
      "source": [
        "!ls"
      ],
      "execution_count": 46,
      "outputs": [
        {
          "output_type": "stream",
          "text": [
            "a.out  archivos.cpp  archivos.txt  sample_data\ttexto.txt\n"
          ],
          "name": "stdout"
        }
      ]
    },
    {
      "cell_type": "markdown",
      "metadata": {
        "id": "vyB4SsBlsSrM"
      },
      "source": [
        "#Lambdas\n",
        "\n",
        "\n",
        "```\n",
        "[]()->{}\n",
        "[] : Variables globales\n",
        "() : parámetros\n",
        "-> : tipo de retorno(opcional)\n",
        "{] : cuerpo de función\n",
        "```\n",
        "\n"
      ]
    },
    {
      "cell_type": "code",
      "metadata": {
        "colab": {
          "base_uri": "https://localhost:8080/"
        },
        "id": "rSs1_5URirZQ",
        "outputId": "277d4e52-24f2-4e71-d9fc-86dbc436b6ab"
      },
      "source": [
        "%%writefile lambdas.cpp\n",
        "#include<iostream>\n",
        "#include<functional>\n",
        "using namespace std;\n",
        "void operacion(function<int(int,int)> criterio ){\n",
        "    int x=10;\n",
        "    int y=20;\n",
        "    cout<<criterio(x,y);\n",
        "\n",
        "}\n",
        "int main(){\n",
        "    //creando lambdas\n",
        "    auto mayor= [](int a, int b){return a>=b?a:b;};//toda la función se asigna como variable\n",
        "    auto menor= [](int a, int b){return a<=b?a:b;};//toda la función se asigna como variable\n",
        "    //invocación a la operacion\n",
        "    operacion(menor);\n",
        "}"
      ],
      "execution_count": 82,
      "outputs": [
        {
          "output_type": "stream",
          "text": [
            "Overwriting lambdas.cpp\n"
          ],
          "name": "stdout"
        }
      ]
    },
    {
      "cell_type": "code",
      "metadata": {
        "colab": {
          "base_uri": "https://localhost:8080/"
        },
        "id": "gwPPoZq2sxJA",
        "outputId": "90b30883-3499-4951-9f21-54cb814731f2"
      },
      "source": [
        "!g++ lambdas.cpp && ./a.out"
      ],
      "execution_count": 83,
      "outputs": [
        {
          "output_type": "stream",
          "text": [
            "10"
          ],
          "name": "stdout"
        }
      ]
    },
    {
      "cell_type": "code",
      "metadata": {
        "colab": {
          "base_uri": "https://localhost:8080/"
        },
        "id": "5K2XA3BgvrQE",
        "outputId": "ce57f4f1-795d-449f-d255-d9531a263339"
      },
      "source": [
        "%%writefile covid.cpp\n",
        "#include <string>\n",
        "#include<iostream>\n",
        "#include<sstream>\n",
        "#include<vector>\n",
        "#include<functional>\n",
        "using namespace std;\n",
        "using std::string;\n",
        "struct Persona{\n",
        "    string nombre;\n",
        "    char sexo;\n",
        "    unsigned short edad;\n",
        "    Persona(string n,char s, unsigned short e){\n",
        "        nombre=n;\n",
        "        sexo=s;\n",
        "        edad=e;\n",
        "    }\n",
        "};\n",
        "void salen(function<void(vector<Persona>)> criterio){\n",
        "    vector<Persona> personas;\n",
        "    personas.push_back(Persona(\"Walter\",'M',38));\n",
        "    personas.push_back(Persona(\"Miguel\",'M',70));\n",
        "    personas.push_back(Persona(\"Ana\",'F',25));\n",
        "    personas.push_back(Persona(\"Lorena\",'F',65));\n",
        "    personas.push_back(Persona(\"Fidel\",'M',17));\n",
        "    personas.push_back(Persona(\"Pedro\",'M',40));\n",
        "    personas.push_back(Persona(\"Sofia\",'F',15));\n",
        "    criterio(personas);\n",
        "}\n",
        "void masculino(vector<Persona> p){\n",
        "    for(size_t i=0;i<p.size();++i){\n",
        "        if(p[i].sexo=='M')\n",
        "            cout<<p[i].nombre<<\" \"<<p[i].sexo<<\" \"<<p[i].edad<<endl;\n",
        "    }\n",
        "}\n",
        "int main(){\n",
        "  auto femenino=[](vector<Persona> p){\n",
        "    for(size_t i=0;i<p.size();++i){\n",
        "        if(p[i].sexo=='F')\n",
        "            cout<<p[i].nombre<<\" \"<<p[i].sexo<<\" \"<<p[i].edad<<endl;\n",
        "    }\n",
        "    };\n",
        "    auto edad=[](vector<Persona> p){\n",
        "    for(size_t i=0;i<p.size();++i){\n",
        "        if(p[i].edad>=18&&p[i].edad<=50)\n",
        "            cout<<p[i].nombre<<\" \"<<p[i].sexo<<\" \"<<p[i].edad<<endl;\n",
        "    }\n",
        "    };\n",
        "    salen(masculino);\n",
        "    cout<<endl<<endl;\n",
        "    salen(femenino);\n",
        "    cout<<endl<<endl;\n",
        "    salen(edad);\n",
        "    cout<<endl<<endl;\n",
        "}"
      ],
      "execution_count": 112,
      "outputs": [
        {
          "output_type": "stream",
          "text": [
            "Overwriting covid.cpp\n"
          ],
          "name": "stdout"
        }
      ]
    },
    {
      "cell_type": "code",
      "metadata": {
        "colab": {
          "base_uri": "https://localhost:8080/"
        },
        "id": "l5l40Fx7y9e2",
        "outputId": "432d670f-98a2-4ad3-a9b3-4d991dc9ee8d"
      },
      "source": [
        "!g++ covid.cpp && ./a.out"
      ],
      "execution_count": 113,
      "outputs": [
        {
          "output_type": "stream",
          "text": [
            "Walter M 38\n",
            "Miguel M 70\n",
            "Fidel M 17\n",
            "Pedro M 40\n",
            "\n",
            "\n",
            "Ana F 25\n",
            "Lorena F 65\n",
            "Sofia F 15\n",
            "\n",
            "\n",
            "Walter M 38\n",
            "Ana F 25\n",
            "Pedro M 40\n",
            "\n",
            "\n"
          ],
          "name": "stdout"
        }
      ]
    },
    {
      "cell_type": "code",
      "metadata": {
        "id": "fuxcRurCz9ht"
      },
      "source": [
        ""
      ],
      "execution_count": null,
      "outputs": []
    }
  ]
}