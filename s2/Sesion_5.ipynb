{
  "nbformat": 4,
  "nbformat_minor": 0,
  "metadata": {
    "colab": {
      "name": "Sesion 5.ipynb",
      "provenance": [],
      "authorship_tag": "ABX9TyObFM1+Yo5gRhcO1Bp2Mrf7"
    },
    "kernelspec": {
      "name": "python3",
      "display_name": "Python 3"
    },
    "language_info": {
      "name": "python"
    }
  },
  "cells": [
    {
      "cell_type": "markdown",
      "metadata": {
        "id": "FEzlVrelQP85"
      },
      "source": [
        "#Temario \n",
        "-  Recursividad \n",
        "- Listas enlazadas"
      ]
    },
    {
      "cell_type": "code",
      "metadata": {
        "colab": {
          "base_uri": "https://localhost:8080/"
        },
        "id": "THyEh5AAQDLe",
        "outputId": "bf0742bb-8a10-4ea7-e70f-e734079371cf"
      },
      "source": [
        "%%writefile r1.cpp\n",
        "#include<iostream>\n",
        "using namespace std;\n",
        "int suma(int x){\n",
        "    if(x>0){\n",
        "        return x+suma(x-1);\n",
        "    }\n",
        "}\n",
        "int main(){\n",
        "    int x=10;\n",
        "    cout<<suma(x);\n",
        "    return 0;\n",
        "}"
      ],
      "execution_count": 41,
      "outputs": [
        {
          "output_type": "stream",
          "name": "stdout",
          "text": [
            "Overwriting r1.cpp\n"
          ]
        }
      ]
    },
    {
      "cell_type": "code",
      "metadata": {
        "colab": {
          "base_uri": "https://localhost:8080/"
        },
        "id": "CgHBPjMKSAdU",
        "outputId": "eeb89d3d-09b0-4405-b7eb-cd94b0ff7547"
      },
      "source": [
        "!g++ r1.cpp && ./a.out"
      ],
      "execution_count": 43,
      "outputs": [
        {
          "output_type": "stream",
          "name": "stdout",
          "text": [
            "55"
          ]
        }
      ]
    },
    {
      "cell_type": "code",
      "metadata": {
        "colab": {
          "base_uri": "https://localhost:8080/"
        },
        "id": "wdxAf5BgX2VC",
        "outputId": "f12fe351-1212-48b0-cfcd-0bea2bc58556"
      },
      "source": [
        "%%writefile fibonacci.cpp\n",
        "#include<iostream>\n",
        "using namespace std;\n",
        "int fibonacci(int x){\n",
        "    if (x<=2)return 1;\n",
        "    else return (fibonacci(x-1)+fibonacci(x-2));\n",
        "}\n",
        "void serie(int n){\n",
        "    if(n==0)return;\n",
        "    serie(n-1);\n",
        "    cout<<fibonacci(n)<<\" \";\n",
        "}\n",
        "int main(){\n",
        "    int num=4;\n",
        "    serie(num);\n",
        "    return 0;\n",
        "}"
      ],
      "execution_count": 92,
      "outputs": [
        {
          "output_type": "stream",
          "name": "stdout",
          "text": [
            "Overwriting fibonacci.cpp\n"
          ]
        }
      ]
    },
    {
      "cell_type": "code",
      "metadata": {
        "colab": {
          "base_uri": "https://localhost:8080/"
        },
        "id": "UNU-KejjYhMy",
        "outputId": "f788f376-48f0-4c41-c29d-282a73b45225"
      },
      "source": [
        "!g++ fibonacci.cpp && ./a.out"
      ],
      "execution_count": 93,
      "outputs": [
        {
          "output_type": "stream",
          "name": "stdout",
          "text": [
            "1 1 2 3 "
          ]
        }
      ]
    },
    {
      "cell_type": "code",
      "metadata": {
        "colab": {
          "base_uri": "https://localhost:8080/"
        },
        "id": "V7km8CJnYkvQ",
        "outputId": "f75b2516-7fa8-4f81-da9a-56e518a0e2a4"
      },
      "source": [
        "%%writefile triangulo.cpp\n",
        "#include <iostream>\n",
        "using namespace std;\n",
        "\n",
        "void columnas(int m){\n",
        "    if(m==0)return;\n",
        "    columnas(m-1);\n",
        "    cout<<\"*\";\n",
        "\n",
        "\n",
        "}\n",
        "\n",
        "void filas(int n){\n",
        "    if(n==0)return;\n",
        "    filas(n-1);\n",
        "    columnas(n);\n",
        "    cout<<endl;\n",
        "\n",
        "}\n",
        "\n",
        "int main(){\n",
        "    int num=5;\n",
        "    filas(5);\n",
        "    return 0;\n",
        "\n",
        "}"
      ],
      "execution_count": 134,
      "outputs": [
        {
          "output_type": "stream",
          "name": "stdout",
          "text": [
            "Overwriting triangulo.cpp\n"
          ]
        }
      ]
    },
    {
      "cell_type": "code",
      "metadata": {
        "colab": {
          "base_uri": "https://localhost:8080/"
        },
        "id": "ZBJpEwLCcGYw",
        "outputId": "2f538590-d9d7-45a8-ef88-218985a2fc07"
      },
      "source": [
        "!g++ triangulo.cpp && ./a.out"
      ],
      "execution_count": 135,
      "outputs": [
        {
          "output_type": "stream",
          "name": "stdout",
          "text": [
            "*\n",
            "**\n",
            "***\n",
            "****\n",
            "*****\n"
          ]
        }
      ]
    },
    {
      "cell_type": "code",
      "metadata": {
        "colab": {
          "base_uri": "https://localhost:8080/"
        },
        "id": "21IoC_9ncONm",
        "outputId": "721397a7-aaed-4d63-caa1-fbdefa2f3846"
      },
      "source": [
        "%%writefile ejercicio.cpp\n",
        "#include <iostream>\n",
        "using namespace std;\n",
        "\n",
        "void corte(int a, int b, int n) {\n",
        "    cout <<\"Corte: \"<< a << \" x \" << b<<endl;\n",
        "    if (n == 0) return;\n",
        "    else {\n",
        "        if (a >= b ) a = a/2;\n",
        "        else b = b/2;\n",
        "        n--;\n",
        "        corte(a, b, n);\n",
        "    }\n",
        "}\n",
        "\n",
        "int main(){\n",
        "    corte(300, 200, 3);\n",
        "    return 0;\n",
        "}"
      ],
      "execution_count": 161,
      "outputs": [
        {
          "output_type": "stream",
          "name": "stdout",
          "text": [
            "Overwriting ejercicio.cpp\n"
          ]
        }
      ]
    },
    {
      "cell_type": "code",
      "metadata": {
        "colab": {
          "base_uri": "https://localhost:8080/"
        },
        "id": "PH-2mpIog_Oe",
        "outputId": "7b0bcd96-98df-4f39-b077-a7eb28d0966a"
      },
      "source": [
        "!g++ ejercicio.cpp && ./a.out"
      ],
      "execution_count": 162,
      "outputs": [
        {
          "output_type": "stream",
          "name": "stdout",
          "text": [
            "Corte: 300 x 200\n",
            "Corte: 150 x 200\n",
            "Corte: 150 x 100\n",
            "Corte: 75 x 100\n"
          ]
        }
      ]
    },
    {
      "cell_type": "markdown",
      "metadata": {
        "id": "FsA14FPXiBeu"
      },
      "source": [
        "##Listas Simples"
      ]
    },
    {
      "cell_type": "code",
      "metadata": {
        "id": "p2bF2MV8hBZl"
      },
      "source": [
        "%%writefile listas.cpp\n",
        "#include<iostream>\n",
        "using namespace std;\n"
      ],
      "execution_count": null,
      "outputs": []
    }
  ]
}