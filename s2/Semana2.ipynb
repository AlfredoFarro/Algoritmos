{
  "nbformat": 4,
  "nbformat_minor": 0,
  "metadata": {
    "colab": {
      "name": "Semana2.ipynb",
      "provenance": [],
      "authorship_tag": "ABX9TyPZZ25y6VBf8E2nKH8KsPf5"
    },
    "kernelspec": {
      "name": "python3",
      "display_name": "Python 3"
    },
    "language_info": {
      "name": "python"
    }
  },
  "cells": [
    {
      "cell_type": "markdown",
      "metadata": {
        "id": "_5d3ypz0RUvI"
      },
      "source": [
        "#Temario \n",
        "1. Colab\n",
        "2. Compilación manual\n",
        "3. Templates"
      ]
    },
    {
      "cell_type": "code",
      "metadata": {
        "colab": {
          "base_uri": "https://localhost:8080/"
        },
        "id": "WSVnGSu2MxnV",
        "outputId": "18d94e40-3cfa-4261-d864-80c806abe4c7"
      },
      "source": [
        "%%writefile prog1.cpp\n",
        "#include<iostream>\n",
        "using namespace std;\n",
        "int main(){\n",
        "  cout<<\"UPC\";\n",
        "  return 0;\n",
        "}"
      ],
      "execution_count": 18,
      "outputs": [
        {
          "output_type": "stream",
          "text": [
            "Overwriting prog1.cpp\n"
          ],
          "name": "stdout"
        }
      ]
    },
    {
      "cell_type": "code",
      "metadata": {
        "id": "c5oVdHuMN2Mg"
      },
      "source": [
        "#compilando desde colab, !sirve ejecutar programas en shell(cp,rm,mv)\n",
        "!g++ prog1.cpp"
      ],
      "execution_count": 19,
      "outputs": []
    },
    {
      "cell_type": "code",
      "metadata": {
        "colab": {
          "base_uri": "https://localhost:8080/"
        },
        "id": "h7Wy6xt9OiV9",
        "outputId": "0d3c7768-2e76-4679-8c1e-d841dd3ccdf0"
      },
      "source": [
        "#ejecutar desde el programa objeto\n",
        "!./a.out"
      ],
      "execution_count": 20,
      "outputs": [
        {
          "output_type": "stream",
          "text": [
            "UPC"
          ],
          "name": "stdout"
        }
      ]
    },
    {
      "cell_type": "code",
      "metadata": {
        "colab": {
          "base_uri": "https://localhost:8080/"
        },
        "id": "1QIbbpOxO3ku",
        "outputId": "7c3c4e8f-c1db-4634-e115-9e732fae02a2"
      },
      "source": [
        "#compilar y ejecutar\n",
        "!g++ prog1.cpp  &&./a.out"
      ],
      "execution_count": 23,
      "outputs": [
        {
          "output_type": "stream",
          "text": [
            "UPC"
          ],
          "name": "stdout"
        }
      ]
    },
    {
      "cell_type": "code",
      "metadata": {
        "colab": {
          "base_uri": "https://localhost:8080/"
        },
        "id": "oNlJb1MEPl0V",
        "outputId": "8df722be-8759-4ed3-9b29-5b7afa9368c5"
      },
      "source": [
        "!g++ prog1.cpp -o prog1.bin &&./prog1.bin"
      ],
      "execution_count": 24,
      "outputs": [
        {
          "output_type": "stream",
          "text": [
            "UPC"
          ],
          "name": "stdout"
        }
      ]
    },
    {
      "cell_type": "code",
      "metadata": {
        "colab": {
          "base_uri": "https://localhost:8080/"
        },
        "id": "_F4T0OPCQIVs",
        "outputId": "cddae395-4aee-4113-d814-424cefcdc663"
      },
      "source": [
        "#compilar, renombre, selecciona el compilador y ejecuta\n",
        "!g++ -std=c++1z -Wall prog1.cpp -o prog1.bin && ./prog1.bin"
      ],
      "execution_count": 27,
      "outputs": [
        {
          "output_type": "stream",
          "text": [
            "UPC"
          ],
          "name": "stdout"
        }
      ]
    },
    {
      "cell_type": "markdown",
      "metadata": {
        "id": "clvAbNKjSWwX"
      },
      "source": [
        "#Templates"
      ]
    },
    {
      "cell_type": "code",
      "metadata": {
        "colab": {
          "base_uri": "https://localhost:8080/"
        },
        "id": "FMgkeDxwQUyr",
        "outputId": "3e8c80af-480e-46df-97bb-3f8f0213b9bf"
      },
      "source": [
        "%%writefile ConTemplates.cpp\n",
        "typedef unsigned long long ull;\n",
        "template<class Tipo>\n",
        "class BigNumber{\n",
        "    Tipo n1;\n",
        "    Tipo n2;\n",
        "    public:\n",
        "    BigNumber(Tipo n1=0,Tipo n2=0):n1(n1),n2(n2){}\n",
        "};\n",
        "\n",
        "int main(){\n",
        "    BigNumber<ull> n1;\n",
        "    BigNumber <float> n2;\n",
        "    BigNumber <double> n3;\n",
        "    return 0;\n",
        "}\n"
      ],
      "execution_count": 45,
      "outputs": [
        {
          "output_type": "stream",
          "text": [
            "Overwriting ConTemplates.cpp\n"
          ],
          "name": "stdout"
        }
      ]
    },
    {
      "cell_type": "code",
      "metadata": {
        "id": "v7xtzg7RQ3kj"
      },
      "source": [
        "!g++ -std=c++1z -Wall ConTemplates.cpp -o ConTemplates.bin && ./ConTemplates.bin"
      ],
      "execution_count": 44,
      "outputs": []
    },
    {
      "cell_type": "markdown",
      "metadata": {
        "id": "Rwm2kB3KbkLo"
      },
      "source": [
        "#Estructura de datos Array con templates\n"
      ]
    },
    {
      "cell_type": "code",
      "metadata": {
        "colab": {
          "base_uri": "https://localhost:8080/"
        },
        "id": "2E59uIYwUCGs",
        "outputId": "327acd14-fc6f-42c1-b222-1d85e3d47446"
      },
      "source": [
        "%%writefile estructura.cpp \n",
        "#include <string>\n",
        "#include <iostream>\n",
        "using std::string;\n",
        "using namespace std;\n",
        "struct Virus{\n",
        "    string name;\n",
        "    Virus(){\n",
        "        name=\"abc\";\n",
        "    }\n",
        "};\n",
        "class Person{\n",
        "  string name;  \n",
        "};\n",
        "template<class Tipo>\n",
        "class Array{\n",
        "    Tipo* arr; \n",
        "  unsigned short id;\n",
        "  public: \n",
        "  Array(){\n",
        "      arr=new Tipo[100];\n",
        "      id=0;\n",
        "  }  \n",
        "  void insert(Tipo v){\n",
        "      if(id<100){\n",
        "          arr[id]=v;\n",
        "          id++;\n",
        "      }\n",
        "  }\n",
        "  Tipo recByPos(unsigned short p){\n",
        "      //if(p>=0&&p<=id)\n",
        "      return arr[p];\n",
        "      \n",
        "  }\n",
        "};\n",
        "\n",
        "int main(){\n",
        "    Array<Virus> colVirus;\n",
        "    Array<Person> colPersonas;\n",
        "    Array<int> enteros;\n",
        "    Array<char> caracteres;\n",
        "//insertando valores\n",
        "for(size_t i=0;i<20;i++){\n",
        "colVirus.insert(Virus());\n",
        "enteros.insert(i);\n",
        "}\n",
        "//probar el registro de datos en el container(Estructura de datos)\n",
        "cout<<colVirus.recByPos(10).name<<\"\\n\";\n",
        "    cout<<enteros.recByPos(10)<<\"\\n\";\n",
        "    return 0;\n",
        "}\n",
        "/*\n",
        "class CVirus{\n",
        "  Virus* arr; \n",
        "  unsigned short id;\n",
        "  public: \n",
        "  CVirus{\n",
        "      arr=new Virus[100];\n",
        "      id=0;\n",
        "  }  \n",
        "  void insert(Virus v){\n",
        "      if(id<100){\n",
        "          arr[id]=v;\n",
        "          id++;\n",
        "      }\n",
        "  }\n",
        "};\n",
        "class CPerson{\n",
        "  Person* arr; \n",
        "  unsigned short id;\n",
        "  public: \n",
        "  CPerson{\n",
        "      arr=new Person[100];\n",
        "      id=0;\n",
        "  }  \n",
        "  void insert(Person v){\n",
        "      if(id<100){\n",
        "          arr[id]=v;\n",
        "          id++;\n",
        "      }\n",
        "  }\n",
        "};\n",
        "*/\n",
        "\n"
      ],
      "execution_count": 78,
      "outputs": [
        {
          "output_type": "stream",
          "text": [
            "Overwriting estructura.cpp\n"
          ],
          "name": "stdout"
        }
      ]
    },
    {
      "cell_type": "code",
      "metadata": {
        "colab": {
          "base_uri": "https://localhost:8080/"
        },
        "id": "wYVknN1ie8lp",
        "outputId": "b1ea929a-5970-4180-abd1-207670c2ab09"
      },
      "source": [
        "!g++ -std=c++1z -Wall estructura.cpp -o estructura.bin && ./estructura.bin"
      ],
      "execution_count": 79,
      "outputs": [
        {
          "output_type": "stream",
          "text": [
            "abc\n",
            "10\n"
          ],
          "name": "stdout"
        }
      ]
    },
    {
      "cell_type": "code",
      "metadata": {
        "id": "4rmstVsNfF_o"
      },
      "source": [
        ""
      ],
      "execution_count": null,
      "outputs": []
    }
  ]
}